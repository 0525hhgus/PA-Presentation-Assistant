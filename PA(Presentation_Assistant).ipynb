{
  "nbformat": 4,
  "nbformat_minor": 0,
  "metadata": {
    "colab": {
      "provenance": [],
      "toc_visible": true
    },
    "kernelspec": {
      "name": "python3",
      "display_name": "Python 3"
    },
    "language_info": {
      "name": "python"
    }
  },
  "cells": [
    {
      "cell_type": "markdown",
      "source": [
        "# PA!(Presentation Assistant) 서비스\n",
        "*해당 코드는 노트북 상에서 작동되는 서비스로 본 서비스와 코드는 [PA!(Presentation Assistdant)](https://huggingface.co/spaces/SRankChatGpt/Presentation-Assistant)에서 체험하실 수 있습니다* 😀\n",
        "> **파!🥬 PA! (Presentation Assistant)**는 PPT 제작 및 프레젠테이션 지원 Text2PPT & PPT2Script 플랫폼입니다.    \n",
        "사용자가 입력한 내용을 기반으로 PPT를 제작하고, 프레젠테이션 스크립트를 제공하여 프레젠테이션 역량을 향상시킵니다.    \n",
        "자동화된 PPT 제작 기능을 통해 업무 효율성을 높이고, 시간과 비용을 절약할 수 있습니다. \n",
        "\n",
        "- 서비스 관련 문의는 Github Issue 및 [Huggingface Community](https://huggingface.co/spaces/SRankChatGpt/Presentation-Assistant/discussions)로 부탁드립니다.\n",
        "    - 피드백 및 버그 신고는 언제나 환영입니다 🙂"
      ],
      "metadata": {
        "id": "uSOR-WNJTXPa"
      }
    },
    {
      "cell_type": "markdown",
      "source": [
        "## 1. 환경 설정\n",
        "- 라이브러리 설치 및 임포트\n",
        "- 한글 폰트 설치(나눔고딕)"
      ],
      "metadata": {
        "id": "xZ5r3f0nZiRx"
      }
    },
    {
      "cell_type": "code",
      "execution_count": null,
      "metadata": {
        "colab": {
          "base_uri": "https://localhost:8080/"
        },
        "id": "jcmbfNrjTS5A",
        "outputId": "e157b52e-57a8-44ac-8699-abbcbe961b4e"
      },
      "outputs": [
        {
          "output_type": "stream",
          "name": "stdout",
          "text": [
            "Looking in indexes: https://pypi.org/simple, https://us-python.pkg.dev/colab-wheels/public/simple/\n",
            "Requirement already satisfied: PyPDF2 in /usr/local/lib/python3.9/dist-packages (3.0.1)\n",
            "Requirement already satisfied: typing_extensions>=3.10.0.0 in /usr/local/lib/python3.9/dist-packages (from PyPDF2) (4.5.0)\n",
            "Looking in indexes: https://pypi.org/simple, https://us-python.pkg.dev/colab-wheels/public/simple/\n",
            "Requirement already satisfied: python-pptx==0.6.18 in /usr/local/lib/python3.9/dist-packages (0.6.18)\n",
            "Requirement already satisfied: XlsxWriter>=0.5.7 in /usr/local/lib/python3.9/dist-packages (from python-pptx==0.6.18) (3.1.0)\n",
            "Requirement already satisfied: Pillow>=3.3.2 in /usr/local/lib/python3.9/dist-packages (from python-pptx==0.6.18) (8.4.0)\n",
            "Requirement already satisfied: lxml>=3.1.0 in /usr/local/lib/python3.9/dist-packages (from python-pptx==0.6.18) (4.9.2)\n",
            "Reading package lists... Done\n",
            "Building dependency tree       \n",
            "Reading state information... Done\n",
            "pandoc is already the newest version (2.5-3build2).\n",
            "0 upgraded, 0 newly installed, 0 to remove and 23 not upgraded.\n",
            "Looking in indexes: https://pypi.org/simple, https://us-python.pkg.dev/colab-wheels/public/simple/\n",
            "Collecting nodejs-bin\n",
            "  Downloading nodejs_bin-18.4.0a4-py3-none-manylinux_2_12_x86_64.manylinux2010_x86_64.whl (47.3 MB)\n",
            "\u001b[2K     \u001b[90m━━━━━━━━━━━━━━━━━━━━━━━━━━━━━━━━━━━━━━━━\u001b[0m \u001b[32m47.3/47.3 MB\u001b[0m \u001b[31m14.2 MB/s\u001b[0m eta \u001b[36m0:00:00\u001b[0m\n",
            "\u001b[?25hInstalling collected packages: nodejs-bin\n",
            "Successfully installed nodejs-bin-18.4.0a4\n",
            "  % Total    % Received % Xferd  Average Speed   Time    Time     Time  Current\n",
            "                                 Dload  Upload   Total   Spent    Left  Speed\n",
            "100 89.6M  100 89.6M    0     0  4340k      0  0:00:21  0:00:21 --:--:-- 4764k\n",
            "(Reading database ... 122604 files and directories currently installed.)\n",
            "Preparing to unpack chrome.deb ...\n",
            "Unpacking google-chrome-stable (112.0.5615.165-1) over (112.0.5615.165-1) ...\n",
            "Setting up google-chrome-stable (112.0.5615.165-1) ...\n",
            "Processing triggers for mime-support (3.64ubuntu1) ...\n",
            "Processing triggers for man-db (2.9.1-1) ...\n",
            "Reading package lists... Done\n",
            "Building dependency tree       \n",
            "Reading state information... Done\n",
            "0 upgraded, 0 newly installed, 0 to remove and 23 not upgraded.\n"
          ]
        }
      ],
      "source": [
        "# 파이썬 라이브러리 설치\n",
        "!pip install -q openai\n",
        "!pip install PyPDF2\n",
        "!pip install python-pptx==0.6.18\n",
        "\n",
        "# pandoc\n",
        "!sudo apt-get install pandoc\n",
        "\n",
        "# marp\n",
        "!pip install nodejs-bin\n",
        "!curl https://dl.google.com/linux/direct/google-chrome-stable_current_amd64.deb -o chrome.deb\n",
        "!dpkg --install chrome.deb\n",
        "!apt-get install --fix-broken --assume-yes\n",
        "!npm install -g @marp-team/marp-cli"
      ]
    },
    {
      "cell_type": "code",
      "source": [
        "# 폰트 설치\n",
        "!sudo apt-get install -f\n",
        "!sudo apt-get install -y fonts-nanum\n",
        "!sudo fc-cache -fv\n",
        "!rm ~/.cache/matplotlib -rf\n",
        "!fc-list | grep \"Nanum\""
      ],
      "metadata": {
        "colab": {
          "base_uri": "https://localhost:8080/"
        },
        "id": "Ai2CzdWWZxht",
        "outputId": "6e7ceb68-c5b3-408a-fbb2-2fde8b6fc524"
      },
      "execution_count": null,
      "outputs": [
        {
          "output_type": "stream",
          "name": "stdout",
          "text": [
            "Reading package lists... Done\n",
            "Building dependency tree       \n",
            "Reading state information... Done\n",
            "0 upgraded, 0 newly installed, 0 to remove and 23 not upgraded.\n",
            "Reading package lists... Done\n",
            "Building dependency tree       \n",
            "Reading state information... Done\n",
            "The following NEW packages will be installed:\n",
            "  fonts-nanum\n",
            "0 upgraded, 1 newly installed, 0 to remove and 23 not upgraded.\n",
            "Need to get 9,599 kB of archives.\n",
            "After this operation, 29.6 MB of additional disk space will be used.\n",
            "Get:1 http://archive.ubuntu.com/ubuntu focal/universe amd64 fonts-nanum all 20180306-3 [9,599 kB]\n",
            "Fetched 9,599 kB in 2s (5,544 kB/s)\n",
            "debconf: unable to initialize frontend: Dialog\n",
            "debconf: (No usable dialog-like program is installed, so the dialog based frontend cannot be used. at /usr/share/perl5/Debconf/FrontEnd/Dialog.pm line 76, <> line 1.)\n",
            "debconf: falling back to frontend: Readline\n",
            "debconf: unable to initialize frontend: Readline\n",
            "debconf: (This frontend requires a controlling tty.)\n",
            "debconf: falling back to frontend: Teletype\n",
            "dpkg-preconfigure: unable to re-open stdin: \n",
            "Selecting previously unselected package fonts-nanum.\n",
            "(Reading database ... 122585 files and directories currently installed.)\n",
            "Preparing to unpack .../fonts-nanum_20180306-3_all.deb ...\n",
            "Unpacking fonts-nanum (20180306-3) ...\n",
            "Setting up fonts-nanum (20180306-3) ...\n",
            "Processing triggers for fontconfig (2.13.1-2ubuntu3) ...\n",
            "/usr/share/fonts: caching, new cache contents: 0 fonts, 1 dirs\n",
            "/usr/share/fonts/truetype: caching, new cache contents: 0 fonts, 3 dirs\n",
            "/usr/share/fonts/truetype/humor-sans: caching, new cache contents: 1 fonts, 0 dirs\n",
            "/usr/share/fonts/truetype/liberation: caching, new cache contents: 16 fonts, 0 dirs\n",
            "/usr/share/fonts/truetype/nanum: caching, new cache contents: 10 fonts, 0 dirs\n",
            "/usr/local/share/fonts: caching, new cache contents: 0 fonts, 0 dirs\n",
            "/root/.local/share/fonts: skipping, no such directory\n",
            "/root/.fonts: skipping, no such directory\n",
            "/usr/share/fonts/truetype: skipping, looped directory detected\n",
            "/usr/share/fonts/truetype/humor-sans: skipping, looped directory detected\n",
            "/usr/share/fonts/truetype/liberation: skipping, looped directory detected\n",
            "/usr/share/fonts/truetype/nanum: skipping, looped directory detected\n",
            "/var/cache/fontconfig: cleaning cache directory\n",
            "/root/.cache/fontconfig: not cleaning non-existent cache directory\n",
            "/root/.fontconfig: not cleaning non-existent cache directory\n",
            "fc-cache: succeeded\n",
            "/usr/share/fonts/truetype/nanum/NanumSquareRoundB.ttf: NanumSquareRound,나눔스퀘어라운드,NanumSquareRound Bold,나눔스퀘어라운드 Bold:style=Bold,Regular\n",
            "/usr/share/fonts/truetype/nanum/NanumSquareRoundR.ttf: NanumSquareRound,나눔스퀘어라운드,NanumSquareRound Regular,나눔스퀘어라운드 Regular:style=Regular\n",
            "/usr/share/fonts/truetype/nanum/NanumSquareB.ttf: NanumSquare,나눔스퀘어,NanumSquare Bold,나눔스퀘어 Bold:style=Bold\n",
            "/usr/share/fonts/truetype/nanum/NanumBarunGothic.ttf: NanumBarunGothic,나눔바른고딕:style=Regular\n",
            "/usr/share/fonts/truetype/nanum/NanumGothic.ttf: NanumGothic,나눔고딕:style=Regular\n",
            "/usr/share/fonts/truetype/nanum/NanumBarunGothicBold.ttf: NanumBarunGothic,나눔바른고딕:style=Bold\n",
            "/usr/share/fonts/truetype/nanum/NanumGothicBold.ttf: NanumGothic,나눔고딕:style=Bold\n",
            "/usr/share/fonts/truetype/nanum/NanumSquareR.ttf: NanumSquare,나눔스퀘어:style=Regular\n",
            "/usr/share/fonts/truetype/nanum/NanumMyeongjo.ttf: NanumMyeongjo,나눔명조:style=Regular\n",
            "/usr/share/fonts/truetype/nanum/NanumMyeongjoBold.ttf: NanumMyeongjo,나눔명조:style=Bold\n"
          ]
        }
      ]
    },
    {
      "cell_type": "code",
      "source": [
        "# 라이브러리 불러오기\n",
        "import subprocess\n",
        "import PyPDF2\n",
        "import openai\n",
        "from pptx import Presentation\n",
        "from io import BytesIO\n",
        "from nodejs import npx"
      ],
      "metadata": {
        "id": "tXeW8Rw_bDIW"
      },
      "execution_count": null,
      "outputs": []
    },
    {
      "cell_type": "code",
      "source": [
        "# API KEY 입력\n",
        "# https://platform.openai.com/account/api-keys 에서 확인 가능\n",
        "openapi_key = 'API를 입력해주세요!' "
      ],
      "metadata": {
        "id": "Zkq13gqvgh_A"
      },
      "execution_count": null,
      "outputs": []
    },
    {
      "cell_type": "markdown",
      "source": [
        "## 2. TEXT2PPT"
      ],
      "metadata": {
        "id": "sFQT9jqWbgSk"
      }
    },
    {
      "cell_type": "markdown",
      "source": [
        "### 2-1. Marp 프롬프트 생성"
      ],
      "metadata": {
        "id": "F-0NNGSHbmjZ"
      }
    },
    {
      "cell_type": "code",
      "source": [
        "def generate_text2ppt_input_prompt_marp(input_type, input_value, input_pages):\n",
        "    header=\"\"\"\n",
        "    너가 Marp 문법으로 PPT를 제작하는 디자이너라고 가정하고, %s장의 PPT를 작성해.\n",
        "    +++ 아래 내용 또는 링크를 요약해서 마크다운 언어로 작성하는데, === 아래 규칙과 지키고, ~~~ 아래 슬라이드 예시를 참고해.\n",
        "\n",
        "    +++\n",
        "    \"\"\"%input_pages\n",
        "\n",
        "    summary_value = \"\"\n",
        "\n",
        "    if input_type == \"링크\":\n",
        "        summary_value += input_value\n",
        "        summary_value += \"\\n\"\n",
        "    elif input_type == \"텍스트\":\n",
        "        summary_value += input_value\n",
        "        summary_value += \"\\n\"\n",
        "    elif input_type == \"PDF\":\n",
        "        with open(input_value, 'rb') as pdf_file:\n",
        "            pdf_reader = PyPDF2.PdfReader(pdf_file)\n",
        "            num_pages = len(pdf_reader.pages)\n",
        "\n",
        "        # 각 페이지의 내용을 문자열로 변환합니다.\n",
        "        text = \"\"\n",
        "        for page_num in range(num_pages):\n",
        "            page = pdf_reader.pages[page_num]\n",
        "            text += page.extract_text()\n",
        "        summary_value += text\n",
        "        summary_value += \"\\n\"\n",
        "    else:\n",
        "        print(\"ERROR: 잘못된 입력\")\n",
        "\n",
        "    rule_value = \"\"\"\n",
        "    ===\n",
        "    - 제시한 내용 또는 링크의 내용에 대해서만 사실적으로 작성해줘.\n",
        "    - 슬라이드 구분자로 ---를 무조건 사용해줘.\n",
        "    - 주제에 적절한 도형, 이미지(![이미지](이미지링크), https://unsplash.com/ko/images/stock/non-copyrighted 에서 실제로 사용 가능한), 표(|-|), 인용(>), 강조(bold, ``), 이모지(https://kr.piliapp.com/twitter-symbols/), 아이콘 (https://kr.piliapp.com/symbol/#popular) 등이 다양하게 슬라이드를 디자인하고 배치해줘.\n",
        "    - 이모지는 최대 2 페이지에 한 번만 사용하고, 다른 디자인을 다양하게 사용해줘.\n",
        "    - 이미지와 표를 사용할 때, 페이지 크기와 고려해서 글 내용이 모두 나타나도록 크기를 지정해줘.\n",
        "    - Slide 1를 제목으로 해서 총 %s장이야.\n",
        "    - PPT의 내용을 풍부하게 마크다운으로 작성해줘.\n",
        "    - 슬라이드 별로 설명하지말고, 코드만 작성해줘.\n",
        "    - 예시의 내용을 사용해서 작성하지말고, 형식만 참고해.\n",
        "\n",
        "    ~~~\n",
        "    <!-- Slide 0. 슬라이드 주제 -->\n",
        "    # 슬라이드 제목\n",
        "    ![이미지링크](https://huggingface.co/datasets/huggingface/brand-assets/resolve/main/hf-logo-with-title.png)\n",
        "    - ChatGPT를 활용한 🤗**TEXT2PPT 서비스 PA!**입니다.\n",
        "    - `링크`,`텍스트`, `PDF`를 입력 또는 업로드하면, PPT로 변환합니다. \n",
        "    \"\"\"%input_pages\n",
        "\n",
        "    return header+summary_value+rule_value"
      ],
      "metadata": {
        "id": "F2xuBGDUbrjG"
      },
      "execution_count": null,
      "outputs": []
    },
    {
      "cell_type": "markdown",
      "source": [
        "### 2-2. Pandoc 프롬프트 생성"
      ],
      "metadata": {
        "id": "A7iBxFlbboV2"
      }
    },
    {
      "cell_type": "code",
      "source": [
        "def generate_text2ppt_input_prompt_pandoc(input_type, input_value, input_pages):\n",
        "    header = \"\"\"\n",
        "    너가 markdown 문법으로 PPT를 제작하는 디자이너라고 가정하고, %s장의 PPT를 작성해.\n",
        "    +++ 아래 내용 또는 링크를 요약해서 markdown 언어로 작성하는데, === 아래 규칙과 지키고, ~~~ 아래 슬라이드 예시를 참고해.\n",
        "    +++\n",
        "    \"\"\" % input_pages\n",
        "\n",
        "    summary_value = \"\"\n",
        "\n",
        "    if input_type == \"링크\":\n",
        "        summary_value += input_value\n",
        "        summary_value += \"\\n\"\n",
        "    elif input_type == \"텍스트\":\n",
        "        summary_value += input_value\n",
        "        summary_value += \"\\n\"\n",
        "    elif input_type == \"PDF\":\n",
        "        with open(input_value, 'rb') as pdf_file:\n",
        "            pdf_reader = PyPDF2.PdfReader(pdf_file)\n",
        "            num_pages = len(pdf_reader.pages)\n",
        "\n",
        "        # 각 페이지의 내용을 문자열로 변환합니다.\n",
        "        text = \"\"\n",
        "        for page_num in range(num_pages):\n",
        "            page = pdf_reader.pages[page_num]\n",
        "            text += page.extract_text()\n",
        "        summary_value += text\n",
        "        summary_value += \"\\n\"\n",
        "    else:\n",
        "        print(\"ERROR: 잘못된 입력\")\n",
        "\n",
        "    rule_value = \"\"\"\n",
        "    ===\n",
        "    - 제시한 내용 또는 링크의 내용에 대해서만 사실적으로 작성해줘.\n",
        "    - 슬라이드 구분자로 ---를 무조건 사용해줘.\n",
        "    - 주제에 적절한 도형, 이미지(![이미지](이미지링크), https://unsplash.com/ko/images/stock/non-copyrighted 에서 실제로 사용 가능한), 표(|-|), 인용(>), 강조(bold, ``), 이모지(https://kr.piliapp.com/twitter-symbols/), 아이콘 (https://kr.piliapp.com/symbol/#popular) 등이 다양하게 슬라이드를 디자인하고 배치해줘.\n",
        "    - 이모지는 최대 2 페이지에 한 번만 사용하고, 다른 디자인을 다양하게 사용해줘.\n",
        "    - 이미지와 표를 사용할 때, 페이지 크기와 고려해서 글 내용이 모두 나타나도록 크기를 지정해줘.\n",
        "    - Slide 1를 제목으로 해서 총 %s장이야.\n",
        "    - PPT의 내용을 풍부하게 마크다운으로 작성해줘.\n",
        "    - 슬라이드 별로 설명하지말고, 코드만 작성해줘.\n",
        "    - 예시의 내용을 사용해서 작성하지말고, 형식만 참고해.\n",
        "    ~~~\n",
        "    <!-- Slide 0. 슬라이드 주제 -->\n",
        "    # 슬라이드 제목\n",
        "    ![이미지링크](https://huggingface.co/datasets/huggingface/brand-assets/resolve/main/hf-logo-with-title.png)\n",
        "    - ChatGPT를 활용한 🤗**TEXT2PPT 서비스 PA!**입니다.\n",
        "    - `링크`,`텍스트`, `PDF`를 입력 또는 업로드하면, PPT로 변환합니다. \n",
        "    \"\"\" % input_pages\n",
        "\n",
        "    return header + summary_value + rule_value"
      ],
      "metadata": {
        "id": "3SIEdeA8blli"
      },
      "execution_count": null,
      "outputs": []
    },
    {
      "cell_type": "markdown",
      "source": [
        "### 2-3. TEXT2PPT 실행 함수"
      ],
      "metadata": {
        "id": "ncjTPxWDcC0K"
      }
    },
    {
      "cell_type": "code",
      "source": [
        "def text2ppt(token_key, input_prompt, input_theme, trans_type):\n",
        "    openai.api_key = token_key\n",
        "\n",
        "    messages = [\n",
        "        {\"role\": \"system\", \"content\": \"You are a kind helpful PPT designer.\"},\n",
        "    ]\n",
        "\n",
        "    message = input_prompt\n",
        "\n",
        "    if message:\n",
        "        messages.append(\n",
        "            {\"role\": \"user\", \"content\": message},\n",
        "        )\n",
        "        chat = openai.ChatCompletion.create(\n",
        "            model=\"gpt-3.5-turbo-0301\", messages=messages\n",
        "        )\n",
        "\n",
        "    if trans_type == 'pandoc':\n",
        "        reply = chat.choices[0].message.content\n",
        "        messages.append({\"role\": \"assistant\", \"content\": reply})\n",
        "\n",
        "        md_text = reply[4:] if reply[:3] == \"---\" else reply\n",
        "        md_text_list = md_text.split('\\n')\n",
        "\n",
        "        f = open(\"text2ppt_input.md\", 'w')\n",
        "        for i in range(0, len(md_text_list)):\n",
        "            data = md_text_list[i] + \"\\n\"\n",
        "            f.write(data)\n",
        "        f.close()\n",
        "\n",
        "\n",
        "        if input_theme == 'default':\n",
        "            subprocess.run([\"pandoc\", \"text2ppt_input.md\", \"-t\", \"pptx\", \"-o\", \"text2ppt_output.pptx\"], capture_output=True)\n",
        "        else:\n",
        "            ppt_theme = \"--reference-doc=\"+input_theme+\".pptx\"\n",
        "            subprocess.run([\"pandoc\", \"text2ppt_input.md\", \"-t\", \"pptx\", ppt_theme, \"-o\", \"text2ppt_output.pptx\"], capture_output=True)\n",
        "    else:\n",
        "        reply = chat.choices[0].message.content\n",
        "        messages.append({\"role\": \"assistant\", \"content\": reply})\n",
        "\n",
        "        revised_reply = reply[4:] if reply[:3]==\"---\" else reply\n",
        "\n",
        "        ppt_theme = input_theme\n",
        "\n",
        "        marp_header=\"\"\"---\n",
        "        marp: true\n",
        "        theme: %s\n",
        "        footer: 'PA!(Presentation Assistant)'\n",
        "        paginate: true\n",
        "        ---\n",
        "        \"\"\"%input_theme\n",
        "\n",
        "        md_text=marp_header+revised_reply\n",
        "\n",
        "        md_text_list = md_text.split('\\n')\n",
        "\n",
        "        f = open(\"text2ppt_input_marp.md\", 'w')\n",
        "        for i in range(0, len(md_text_list)):\n",
        "            data = md_text_list[i] + \"\\n\"\n",
        "            f.write(data)\n",
        "        f.close()\n",
        "\n",
        "        npx.run([\"@marp-team/marp-cli@latest\", \"--pdf-fonts-dir\", \"/usr/share/fonts/truetype/nanum\", \"--pdf-default-font\", \"NanumGothic\", \"-o\", \"text2ppt_output_marp.pptx\", \"text2ppt_input_marp.md\", \"--chrome-path\", \"/usr/bin/google-chrome-stable\"], capture_output=True)"
      ],
      "metadata": {
        "id": "4oSBSF3-Z-GT"
      },
      "execution_count": null,
      "outputs": []
    },
    {
      "cell_type": "markdown",
      "source": [
        "## 3. PPT2Script"
      ],
      "metadata": {
        "id": "XzHGVHTIdcuk"
      }
    },
    {
      "cell_type": "code",
      "source": [
        "def ppt2script(token_key, input_file, input_type):\n",
        "    openai.api_key = token_key\n",
        "\n",
        "    if input_type==\"PDF\":\n",
        "        with open(input_file, 'rb') as pdf_file:\n",
        "            pdf_reader = PyPDF2.PdfReader(pdf_file)\n",
        "            num_pages = len(pdf_reader.pages)\n",
        "    \n",
        "            text = \"\"\n",
        "            for page_num in range(num_pages):\n",
        "                page = pdf_reader.pages[page_num]\n",
        "                text += \"[PAGE_NUM \" + str(page_num + 1) + \"]\"\n",
        "                text += page.extract_text()\n",
        "    else:\n",
        "        prs = Presentation(input_file)\n",
        "\n",
        "        text = \"\"\n",
        "        page_num = 0\n",
        "        for slide in prs.slides:\n",
        "            text += \"[PAGE_NUM \" + str(page_num + 1) + \"]\"\n",
        "            page_num += 1\n",
        "            for shape in slide.shapes:\n",
        "                if not shape.has_text_frame:\n",
        "                    continue\n",
        "                for paragraph in shape.text_frame.paragraphs:\n",
        "                    for run in paragraph.runs:\n",
        "                        text += run.text\n",
        "\n",
        "    header = \"\"\"\n",
        "    너는는 PPT 발표에 도움을 주는 조력자야. \n",
        "    ~~~아래 규칙을 지키고, --- 아래 PPT 내용에 대해 발표 스크립트를 한글로 작성해.\n",
        "    ~~~\n",
        "    - [PAGE_NUM 1] 일 때, 여기서 1은 페이지 번호인데, 페이지 번호마다 발표 스크립트를 작성해.\n",
        "    - 마크다운 언어를 쓰지않고, 텍스트로만 작성해.\n",
        "    - PPT 내용에 추가적인 설명이나 사례를 덧붙여줘.\n",
        "    ---\n",
        "    \"\"\"\n",
        "\n",
        "    input_prompt = header + text\n",
        "\n",
        "    messages = [\n",
        "        {\"role\": \"system\", \"content\": \"You are a kind helpful PPT Assistant.\"},\n",
        "    ]\n",
        "\n",
        "    message = input_prompt\n",
        "\n",
        "    if message:\n",
        "        messages.append(\n",
        "            {\"role\": \"user\", \"content\": message},\n",
        "        )\n",
        "        chat = openai.ChatCompletion.create(\n",
        "            model=\"gpt-3.5-turbo-0301\", messages=messages\n",
        "        )\n",
        "\n",
        "    reply = chat.choices[0].message.content\n",
        "    messages.append({\"role\": \"assistant\", \"content\": reply})\n",
        "\n",
        "    return reply"
      ],
      "metadata": {
        "id": "u4YU-IondfR-"
      },
      "execution_count": null,
      "outputs": []
    },
    {
      "cell_type": "markdown",
      "source": [
        "## 4. TEXT2PPT 서비스"
      ],
      "metadata": {
        "id": "MX-EkYSPd6c8"
      }
    },
    {
      "cell_type": "markdown",
      "source": [
        "### 4-1. 입력 문서 작성"
      ],
      "metadata": {
        "id": "Ni7YAli1eUqP"
      }
    },
    {
      "cell_type": "code",
      "source": [
        "input_text = input(\"텍스트 또는 링크를 입력해주세요!\")"
      ],
      "metadata": {
        "colab": {
          "base_uri": "https://localhost:8080/"
        },
        "id": "RGWKTIxjeiam",
        "outputId": "8ab84bdd-a7e9-4f66-ab3a-88ea1b7e062c"
      },
      "execution_count": null,
      "outputs": [
        {
          "name": "stdout",
          "output_type": "stream",
          "text": [
            "텍스트 또는 링크를 입력해주세요!https://ko.wikipedia.org/wiki/수소\n"
          ]
        }
      ]
    },
    {
      "cell_type": "markdown",
      "source": [
        "### 4-2. MARP 기반 TEXT2PPT"
      ],
      "metadata": {
        "id": "qDzL-p4jeoIV"
      }
    },
    {
      "cell_type": "markdown",
      "source": [
        "#### 4-2-1. 입력 프롬프트 생성"
      ],
      "metadata": {
        "id": "amKbQE0dfYAh"
      }
    },
    {
      "cell_type": "code",
      "source": [
        "# PPT 희망 장수 지정\n",
        "input_pages = 5"
      ],
      "metadata": {
        "id": "Yf6Hpb96fkJy"
      },
      "execution_count": null,
      "outputs": []
    },
    {
      "cell_type": "code",
      "source": [
        "input_prompt_marp = generate_text2ppt_input_prompt_marp(\"텍스트\", input_text, input_pages)"
      ],
      "metadata": {
        "id": "THZ3UWtRfUk2"
      },
      "execution_count": null,
      "outputs": []
    },
    {
      "cell_type": "code",
      "source": [
        "print(input_prompt_marp)"
      ],
      "metadata": {
        "colab": {
          "base_uri": "https://localhost:8080/"
        },
        "id": "k-GgUOC4gTtb",
        "outputId": "8a2d6d2e-b08b-4b38-cd69-052c83f379bf"
      },
      "execution_count": null,
      "outputs": [
        {
          "output_type": "stream",
          "name": "stdout",
          "text": [
            "\n",
            "    너가 Marp 문법으로 PPT를 제작하는 디자이너라고 가정하고, 5장의 PPT를 작성해.\n",
            "    +++ 아래 내용 또는 링크를 요약해서 마크다운 언어로 작성하는데, === 아래 규칙과 지키고, ~~~ 아래 슬라이드 예시를 참고해.\n",
            "\n",
            "    +++\n",
            "    https://ko.wikipedia.org/wiki/수소\n",
            "\n",
            "    ===\n",
            "    - 제시한 내용 또는 링크의 내용에 대해서만 사실적으로 작성해줘.\n",
            "    - 슬라이드 구분자로 ---를 무조건 사용해줘.\n",
            "    - 주제에 적절한 도형, 이미지(![이미지](이미지링크), https://unsplash.com/ko/images/stock/non-copyrighted 에서 실제로 사용 가능한), 표(|-|), 인용(>), 강조(bold, ``), 이모지(https://kr.piliapp.com/twitter-symbols/), 아이콘 (https://kr.piliapp.com/symbol/#popular) 등이 다양하게 슬라이드를 디자인하고 배치해줘.\n",
            "    - 이모지는 최대 2 페이지에 한 번만 사용하고, 다른 디자인을 다양하게 사용해줘.\n",
            "    - 이미지와 표를 사용할 때, 페이지 크기와 고려해서 글 내용이 모두 나타나도록 크기를 지정해줘.\n",
            "    - Slide 1를 제목으로 해서 총 5장이야.\n",
            "    - PPT의 내용을 풍부하게 마크다운으로 작성해줘.\n",
            "    - 슬라이드 별로 설명하지말고, 코드만 작성해줘.\n",
            "    - 예시의 내용을 사용해서 작성하지말고, 형식만 참고해.\n",
            "\n",
            "    ~~~\n",
            "    <!-- Slide 0. 슬라이드 주제 -->\n",
            "    # 슬라이드 제목\n",
            "    ![이미지링크](https://huggingface.co/datasets/huggingface/brand-assets/resolve/main/hf-logo-with-title.png)\n",
            "    - ChatGPT를 활용한 🤗**TEXT2PPT 서비스 PA!**입니다.\n",
            "    - `링크`,`텍스트`, `PDF`를 입력 또는 업로드하면, PPT로 변환합니다. \n",
            "    \n"
          ]
        }
      ]
    },
    {
      "cell_type": "markdown",
      "source": [
        "#### 4-2-2. PPT 변환\n",
        "- 좌측 파일 시스템에서 생성된 파일을 확인하실 수 있습니다.\n",
        "- 파일명: `text2ppt_output_marp.pptx`"
      ],
      "metadata": {
        "id": "Cto04mIzgaLv"
      }
    },
    {
      "cell_type": "code",
      "source": [
        "# MARP 변환 테마 지정\n",
        "input_theme = \"default\" # gaia, uncover 등 다양한 테마가 있습니다."
      ],
      "metadata": {
        "id": "UGy3Y39Dg5WE"
      },
      "execution_count": null,
      "outputs": []
    },
    {
      "cell_type": "code",
      "source": [
        "text2ppt(openapi_key, input_prompt_marp, input_theme, \"MARP\") # 문서 길이 및 PPT 장수에 따라 최소 2~10분 소요됩니다."
      ],
      "metadata": {
        "id": "F1WZeiN4gYCl"
      },
      "execution_count": null,
      "outputs": []
    },
    {
      "cell_type": "code",
      "source": [
        "npx.run([\"@marp-team/marp-cli@latest\", \"--pdf-fonts-dir\", \"/usr/share/fonts/truetype/nanum\", \"--pdf-default-font\", \"NanumGothic\", \"-o\", \"text2ppt_output_marp.pptx\", \"text2ppt_input_marp.md\", \"--chrome-path\", \"/usr/bin/google-chrome-stable\"], capture_output=True)"
      ],
      "metadata": {
        "colab": {
          "base_uri": "https://localhost:8080/"
        },
        "id": "eugO43YniEHT",
        "outputId": "54226b4d-445f-444d-b55f-28238ff2a83a"
      },
      "execution_count": null,
      "outputs": [
        {
          "output_type": "execute_result",
          "data": {
            "text/plain": [
              "CompletedProcess(args=['/usr/local/lib/python3.9/dist-packages/nodejs/bin/node', '/usr/local/lib/python3.9/dist-packages/nodejs/lib/node_modules/npm/bin/npx-cli.js', '@marp-team/marp-cli@latest', '--pdf-fonts-dir', '/usr/share/fonts/truetype/nanum', '--pdf-default-font', 'NanumGothic', '-o', 'text2ppt_output_marp.pptx', 'text2ppt_input_marp.md', '--chrome-path', '/usr/bin/google-chrome-stable'], returncode=0, stdout=b'', stderr=b'[  INFO ] Converting 1 markdown...\\n[  INFO ] text2ppt_input_marp.md => text2ppt_output_marp.pptx\\n')"
            ]
          },
          "metadata": {},
          "execution_count": 32
        }
      ]
    },
    {
      "cell_type": "code",
      "source": [
        "# pdf 변환을 희망하시면 아래 코드를 사용하시면 됩니다.\n",
        "npx.run([\"@marp-team/marp-cli@latest\", \"--pdf-fonts-dir\", \"/usr/share/fonts/truetype/nanum\", \"--pdf-default-font\", \"NanumGothic\", \"-o\", \"text2ppt_output_marp.pdf\", \"text2ppt_input_marp.md\", \"--chrome-path\", \"/usr/bin/google-chrome-stable\"], capture_output=True)"
      ],
      "metadata": {
        "colab": {
          "base_uri": "https://localhost:8080/"
        },
        "id": "4CBcDEr7jZRc",
        "outputId": "c7c6dfb9-ce43-4f71-b927-748d1e350451"
      },
      "execution_count": null,
      "outputs": [
        {
          "output_type": "execute_result",
          "data": {
            "text/plain": [
              "CompletedProcess(args=['/usr/local/lib/python3.9/dist-packages/nodejs/bin/node', '/usr/local/lib/python3.9/dist-packages/nodejs/lib/node_modules/npm/bin/npx-cli.js', '@marp-team/marp-cli@latest', '--pdf-fonts-dir', '/usr/share/fonts/truetype/nanum', '--pdf-default-font', 'NanumGothic', '-o', 'text2ppt_output_marp.pdf', 'text2ppt_input_marp.md', '--chrome-path', '/usr/bin/google-chrome-stable'], returncode=0, stdout=b'', stderr=b'[  INFO ] Converting 1 markdown...\\n[  INFO ] text2ppt_input_marp.md => text2ppt_output_marp.pdf\\n')"
            ]
          },
          "metadata": {},
          "execution_count": 33
        }
      ]
    },
    {
      "cell_type": "markdown",
      "source": [
        "### 4-3. Pandoc 기반 TEXT2PPT"
      ],
      "metadata": {
        "id": "EGTii3IHeti0"
      }
    },
    {
      "cell_type": "markdown",
      "source": [
        "#### 4-3-1. 입력 프롬프트 생성"
      ],
      "metadata": {
        "id": "Np9DEiYph0Uu"
      }
    },
    {
      "cell_type": "code",
      "source": [
        "# PPT 희망 장수 지정\n",
        "input_pages = 5"
      ],
      "metadata": {
        "id": "8sBXyRqMh2_d"
      },
      "execution_count": null,
      "outputs": []
    },
    {
      "cell_type": "code",
      "source": [
        "input_prompt_pandoc = generate_text2ppt_input_prompt_pandoc(\"텍스트\", input_text, input_pages)"
      ],
      "metadata": {
        "id": "Aj1On7h0hSCI"
      },
      "execution_count": null,
      "outputs": []
    },
    {
      "cell_type": "code",
      "source": [
        "# Pandoc 변환 테마 지정\n",
        "input_theme = \"default\"\n",
        "\n",
        "# CUSTOM 테마는 아래 코드를 참고하세요!\n",
        "# input_theme = \"custom\" # 파일 이름을 작성해주세요 (.pptx 제외) ex) blue.pptx -> blue만 입력\n",
        "# from google.colab import files\n",
        "# myfiles = files.upload()"
      ],
      "metadata": {
        "id": "fcg0WNAQjoan"
      },
      "execution_count": null,
      "outputs": []
    },
    {
      "cell_type": "markdown",
      "source": [
        "#### 4-3-2. PPT 변환\n",
        "- 좌측 파일 시스템에서 생성된 파일을 확인하실 수 있습니다.\n",
        "- 파일명: `text2ppt_output.pptx`\n",
        "- PPT 다운로드 후 편집 가능"
      ],
      "metadata": {
        "id": "g-DAtgCXkXv2"
      }
    },
    {
      "cell_type": "code",
      "source": [
        "text2ppt(openapi_key, input_prompt_marp, input_theme, \"pandoc\") # 문서 길이 및 PPT 장수에 따라 최소 2~10분 소요됩니다."
      ],
      "metadata": {
        "id": "LXb_CNGJdtCe"
      },
      "execution_count": null,
      "outputs": []
    },
    {
      "cell_type": "markdown",
      "source": [
        "## 5. PPT2Script 서비스"
      ],
      "metadata": {
        "id": "UXNcYF8AkTZ8"
      }
    },
    {
      "cell_type": "markdown",
      "source": [
        "#### 5-1. 파일 업로드"
      ],
      "metadata": {
        "id": "D-7jNuwjl1xf"
      }
    },
    {
      "cell_type": "code",
      "source": [
        "from google.colab import files\n",
        "\n",
        "input_type = 'PPT' # PDF 파일의 경우 'PDF'로 수정하시면 됩니다.\n",
        "file_name = 'ppt2script_input.pptx' # 업로드한 파일에 맞춰서 이름을 변경해주세요!\n",
        "my_file = files.upload()"
      ],
      "metadata": {
        "colab": {
          "base_uri": "https://localhost:8080/",
          "height": 76
        },
        "id": "RygW2vz_lq8z",
        "outputId": "830d8b2a-ae27-4765-a9e9-9fe24549ca19"
      },
      "execution_count": null,
      "outputs": [
        {
          "output_type": "display_data",
          "data": {
            "text/plain": [
              "<IPython.core.display.HTML object>"
            ],
            "text/html": [
              "\n",
              "     <input type=\"file\" id=\"files-50d64cc7-7f5c-4048-bd0c-f97c6f488461\" name=\"files[]\" multiple disabled\n",
              "        style=\"border:none\" />\n",
              "     <output id=\"result-50d64cc7-7f5c-4048-bd0c-f97c6f488461\">\n",
              "      Upload widget is only available when the cell has been executed in the\n",
              "      current browser session. Please rerun this cell to enable.\n",
              "      </output>\n",
              "      <script>// Copyright 2017 Google LLC\n",
              "//\n",
              "// Licensed under the Apache License, Version 2.0 (the \"License\");\n",
              "// you may not use this file except in compliance with the License.\n",
              "// You may obtain a copy of the License at\n",
              "//\n",
              "//      http://www.apache.org/licenses/LICENSE-2.0\n",
              "//\n",
              "// Unless required by applicable law or agreed to in writing, software\n",
              "// distributed under the License is distributed on an \"AS IS\" BASIS,\n",
              "// WITHOUT WARRANTIES OR CONDITIONS OF ANY KIND, either express or implied.\n",
              "// See the License for the specific language governing permissions and\n",
              "// limitations under the License.\n",
              "\n",
              "/**\n",
              " * @fileoverview Helpers for google.colab Python module.\n",
              " */\n",
              "(function(scope) {\n",
              "function span(text, styleAttributes = {}) {\n",
              "  const element = document.createElement('span');\n",
              "  element.textContent = text;\n",
              "  for (const key of Object.keys(styleAttributes)) {\n",
              "    element.style[key] = styleAttributes[key];\n",
              "  }\n",
              "  return element;\n",
              "}\n",
              "\n",
              "// Max number of bytes which will be uploaded at a time.\n",
              "const MAX_PAYLOAD_SIZE = 100 * 1024;\n",
              "\n",
              "function _uploadFiles(inputId, outputId) {\n",
              "  const steps = uploadFilesStep(inputId, outputId);\n",
              "  const outputElement = document.getElementById(outputId);\n",
              "  // Cache steps on the outputElement to make it available for the next call\n",
              "  // to uploadFilesContinue from Python.\n",
              "  outputElement.steps = steps;\n",
              "\n",
              "  return _uploadFilesContinue(outputId);\n",
              "}\n",
              "\n",
              "// This is roughly an async generator (not supported in the browser yet),\n",
              "// where there are multiple asynchronous steps and the Python side is going\n",
              "// to poll for completion of each step.\n",
              "// This uses a Promise to block the python side on completion of each step,\n",
              "// then passes the result of the previous step as the input to the next step.\n",
              "function _uploadFilesContinue(outputId) {\n",
              "  const outputElement = document.getElementById(outputId);\n",
              "  const steps = outputElement.steps;\n",
              "\n",
              "  const next = steps.next(outputElement.lastPromiseValue);\n",
              "  return Promise.resolve(next.value.promise).then((value) => {\n",
              "    // Cache the last promise value to make it available to the next\n",
              "    // step of the generator.\n",
              "    outputElement.lastPromiseValue = value;\n",
              "    return next.value.response;\n",
              "  });\n",
              "}\n",
              "\n",
              "/**\n",
              " * Generator function which is called between each async step of the upload\n",
              " * process.\n",
              " * @param {string} inputId Element ID of the input file picker element.\n",
              " * @param {string} outputId Element ID of the output display.\n",
              " * @return {!Iterable<!Object>} Iterable of next steps.\n",
              " */\n",
              "function* uploadFilesStep(inputId, outputId) {\n",
              "  const inputElement = document.getElementById(inputId);\n",
              "  inputElement.disabled = false;\n",
              "\n",
              "  const outputElement = document.getElementById(outputId);\n",
              "  outputElement.innerHTML = '';\n",
              "\n",
              "  const pickedPromise = new Promise((resolve) => {\n",
              "    inputElement.addEventListener('change', (e) => {\n",
              "      resolve(e.target.files);\n",
              "    });\n",
              "  });\n",
              "\n",
              "  const cancel = document.createElement('button');\n",
              "  inputElement.parentElement.appendChild(cancel);\n",
              "  cancel.textContent = 'Cancel upload';\n",
              "  const cancelPromise = new Promise((resolve) => {\n",
              "    cancel.onclick = () => {\n",
              "      resolve(null);\n",
              "    };\n",
              "  });\n",
              "\n",
              "  // Wait for the user to pick the files.\n",
              "  const files = yield {\n",
              "    promise: Promise.race([pickedPromise, cancelPromise]),\n",
              "    response: {\n",
              "      action: 'starting',\n",
              "    }\n",
              "  };\n",
              "\n",
              "  cancel.remove();\n",
              "\n",
              "  // Disable the input element since further picks are not allowed.\n",
              "  inputElement.disabled = true;\n",
              "\n",
              "  if (!files) {\n",
              "    return {\n",
              "      response: {\n",
              "        action: 'complete',\n",
              "      }\n",
              "    };\n",
              "  }\n",
              "\n",
              "  for (const file of files) {\n",
              "    const li = document.createElement('li');\n",
              "    li.append(span(file.name, {fontWeight: 'bold'}));\n",
              "    li.append(span(\n",
              "        `(${file.type || 'n/a'}) - ${file.size} bytes, ` +\n",
              "        `last modified: ${\n",
              "            file.lastModifiedDate ? file.lastModifiedDate.toLocaleDateString() :\n",
              "                                    'n/a'} - `));\n",
              "    const percent = span('0% done');\n",
              "    li.appendChild(percent);\n",
              "\n",
              "    outputElement.appendChild(li);\n",
              "\n",
              "    const fileDataPromise = new Promise((resolve) => {\n",
              "      const reader = new FileReader();\n",
              "      reader.onload = (e) => {\n",
              "        resolve(e.target.result);\n",
              "      };\n",
              "      reader.readAsArrayBuffer(file);\n",
              "    });\n",
              "    // Wait for the data to be ready.\n",
              "    let fileData = yield {\n",
              "      promise: fileDataPromise,\n",
              "      response: {\n",
              "        action: 'continue',\n",
              "      }\n",
              "    };\n",
              "\n",
              "    // Use a chunked sending to avoid message size limits. See b/62115660.\n",
              "    let position = 0;\n",
              "    do {\n",
              "      const length = Math.min(fileData.byteLength - position, MAX_PAYLOAD_SIZE);\n",
              "      const chunk = new Uint8Array(fileData, position, length);\n",
              "      position += length;\n",
              "\n",
              "      const base64 = btoa(String.fromCharCode.apply(null, chunk));\n",
              "      yield {\n",
              "        response: {\n",
              "          action: 'append',\n",
              "          file: file.name,\n",
              "          data: base64,\n",
              "        },\n",
              "      };\n",
              "\n",
              "      let percentDone = fileData.byteLength === 0 ?\n",
              "          100 :\n",
              "          Math.round((position / fileData.byteLength) * 100);\n",
              "      percent.textContent = `${percentDone}% done`;\n",
              "\n",
              "    } while (position < fileData.byteLength);\n",
              "  }\n",
              "\n",
              "  // All done.\n",
              "  yield {\n",
              "    response: {\n",
              "      action: 'complete',\n",
              "    }\n",
              "  };\n",
              "}\n",
              "\n",
              "scope.google = scope.google || {};\n",
              "scope.google.colab = scope.google.colab || {};\n",
              "scope.google.colab._files = {\n",
              "  _uploadFiles,\n",
              "  _uploadFilesContinue,\n",
              "};\n",
              "})(self);\n",
              "</script> "
            ]
          },
          "metadata": {}
        },
        {
          "output_type": "stream",
          "name": "stdout",
          "text": [
            "Saving ppt2script_input.pptx to ppt2script_input (1).pptx\n"
          ]
        }
      ]
    },
    {
      "cell_type": "markdown",
      "source": [
        "### 5-2. 스크립트 변환"
      ],
      "metadata": {
        "id": "IWjRC84Yl3tj"
      }
    },
    {
      "cell_type": "code",
      "source": [
        "script = ppt2script(openapi_key, file_name, input_type) # PPT 또는 PDF 크기에 따라 최소 2~10분 소요됩니다."
      ],
      "metadata": {
        "id": "wl6Uyb4LextB"
      },
      "execution_count": null,
      "outputs": []
    },
    {
      "cell_type": "code",
      "source": [
        "print(script)"
      ],
      "metadata": {
        "colab": {
          "base_uri": "https://localhost:8080/"
        },
        "id": "PC70m8O_l5bp",
        "outputId": "3e312aec-be7b-4f3b-cd6a-8320805eae22"
      },
      "execution_count": null,
      "outputs": [
        {
          "output_type": "stream",
          "name": "stdout",
          "text": [
            "[PAGE_NUM 1] 수소란, 원자 번호 1(H)을 가진 산소, 탄소와 더불어 자연에서 가장 흔하게 존재하는 화학 원소 중 하나입니다. 수소는 가장 간단한 구조를 가지며, 원소 주기율표 상 가장 왼쪽 상단에 위치해 있습니다. 수소는 우주 공간, 물질의 분해, 전기 에너지와 같은 분야에서 주로 사용되고 있습니다.\n",
            "\n",
            "[PAGE_NUM 2] 수소는 여러 산업 분야에서 다양하게 활용됩니다. 수소는 연료 전지 기술 내에서 전기를 생산하는 데 사용되며, 수소 동력차와 같은 차량에서도 사용됩니다. 또한 수소는 금속 가공 산업과 같이 높은 열이 필요한 산업 분야에서도 사용됩니다. 이러한 수소의 활용은 점차 다양해지고 있습니다.\n",
            "\n",
            "[PAGE_NUM 3] 환경 문제는 전 세계적으로 논란이 되고 있는 주제 중 하나입니다. 수소 자동차는 친환경 에너지원으로 알려져 있는데, 이는 지구 환경 문제를 일으키는 대기오염을 줄이는 데 큰 역할을 할 수 있습니다. 이러한 수소 자동차는 미래의 스마트한 모빌리티 시스템을 구축하는 데 큰 역할을 할 것으로 보입니다.\n",
            "\n",
            "[PAGE_NUM 4] 일론 머스크가 설립한 스페이스X는 화성 착륙을 위해 친환경적인 수소 추진 시스템을 개발 중에 있습니다. 이러한 수소 기술은 지속 가능한 에너지 이용에 대한 대안으로 각광받고 있습니다. 미래는 수소 기술로 향하고 있기에, 수소 기술의 발전은 미래에 대한 기대감을 불러일으키고 있습니다.\n",
            "\n",
            "[PAGE_NUM 5] 이상으로 수소 에너지의 기초적인 내용과 수소의 활용, 친환경 에너지원으로써의 수소 자동차, 미래 친환경 에너지 기술에 대해 알아보았습니다. 감사합니다.\n"
          ]
        }
      ]
    },
    {
      "cell_type": "code",
      "source": [],
      "metadata": {
        "id": "iBuaRVsSnULM"
      },
      "execution_count": null,
      "outputs": []
    }
  ]
}